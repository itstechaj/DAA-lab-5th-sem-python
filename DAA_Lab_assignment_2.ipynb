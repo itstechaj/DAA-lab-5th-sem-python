{
  "nbformat": 4,
  "nbformat_minor": 0,
  "metadata": {
    "colab": {
      "provenance": [],
      "collapsed_sections": []
    },
    "kernelspec": {
      "name": "python3",
      "display_name": "Python 3"
    },
    "language_info": {
      "name": "python"
    }
  },
  "cells": [
    {
      "cell_type": "markdown",
      "source": [
        "##Name - Abhijit Kumar\n",
        "\n",
        "##Roll no. - 20CS8167\n",
        "\n",
        "##Reg No. - 20U10635\n",
        "\n",
        "##Section - y"
      ],
      "metadata": {
        "id": "8kiYixoQ5WZH"
      }
    },
    {
      "cell_type": "markdown",
      "source": [
        "##Our minheap class has following methods :-\n",
        "1) isempty() -> returns true if minheap is empty else return false\n",
        "\n",
        "2) lcindx(i) -> return index of left child of ith index\n",
        "\n",
        "2) rcindx(i) -> return index of right child of ith index\n",
        "\n",
        "2) parindx(i) -> return index of parent of ith index\n",
        "\n",
        "2) isleaf(i) -> returns true if ith index is a leaf node\n",
        "\n",
        "6) isvalid(i) -> returns true if i is a valid index in heap array\n",
        "\n",
        "7) swap(i,j) -> swaps the value of ith and jth index in heap array\n",
        "\n",
        "8) front() -> return top most (root) of minheap\n",
        "\n",
        "9) insert(val) -> insert the val into minheap\n",
        "\n",
        "10) pop() -> delete root of minheap\n"
      ],
      "metadata": {
        "id": "iBfXLcfM5GHm"
      }
    },
    {
      "cell_type": "code",
      "source": [
        "#implementing MIN-Heap Class\n",
        "class minheap:\n",
        "  def __init__(self,lis=[]):\n",
        "    self.size=len(lis)\n",
        "    self.arr=lis\n",
        "    if(self.size!=0):\n",
        "      self.buildMinHeap()\n",
        "\n",
        "  #function to convert a given array into minheap\n",
        "  def buildMinHeap(self):\n",
        "    if(self.size==0):\n",
        "      return\n",
        "    '''\n",
        "    from last non leaf node we start heapifying\n",
        "    every node while moving backward in array\n",
        "    '''\n",
        "    lastleafidx=self.parindx(self.size-1)\n",
        "    i=lastleafidx\n",
        "    while(i>=0):\n",
        "      self.heapifyNode(i)\n",
        "      i-=1\n",
        "  #function to check if heap is empty\n",
        "  def isempty(self):\n",
        "    return (self.size==0)\n",
        "  #function to get leftchild index\n",
        "  def lcindx(self,i):\n",
        "    return (2*i+1)\n",
        "  #function to get rightchild index\n",
        "  def rcindx(self,i):\n",
        "    return (2*i+2)\n",
        "  #function to get parent index\n",
        "  def parindx(self,i):\n",
        "    return i//2-1 if i%2==0 else i//2\n",
        "  #function to check if ith index is a leaf node\n",
        "  def isleaf(self,i):\n",
        "    return (2*i+1)>(self.size-1)\n",
        "  #function to check if index is valid\n",
        "  def isvalid(self,i):\n",
        "    return (i<self.size)\n",
        "  #function to swap values at two indexes of arr\n",
        "  def swap(self,idx1,idx2):\n",
        "    self.arr[idx1],self.arr[idx2]=self.arr[idx2],self.arr[idx1]\n",
        "  #function to get minimum element from minheap\n",
        "  def front(self):\n",
        "    if(self.size==0):\n",
        "      print(\"Heap is Empty.\")\n",
        "      return\n",
        "    return self.arr[0]\n",
        "    \n",
        "  #function to heapify after delete root node\n",
        "  def heapifyNode(self,i):\n",
        "    if( (not self.isvalid(i)) or (self.isleaf(i))):\n",
        "      return\n",
        "    lidx=self.lcindx(i)\n",
        "    mincidx=i\n",
        "    if(self.arr[lidx]<self.arr[i]):\n",
        "      mincidx=lidx\n",
        "    ridx=self.rcindx(i)\n",
        "    if ridx<self.size and self.arr[ridx]<self.arr[mincidx]:\n",
        "      mincidx=ridx\n",
        "    if(mincidx!=i):\n",
        "      self.swap(mincidx,i)\n",
        "      self.heapifyNode(mincidx)\n",
        "  #function to insert a element into minheap\n",
        "  def insert(self,val):\n",
        "    self.arr.append(val)\n",
        "    self.size+=1\n",
        "    i=self.size-1\n",
        "    while(self.parindx(i)>=0 and self.arr[self.parindx(i)]>self.arr[i]):\n",
        "      self.swap(i,self.parindx(i))\n",
        "      i=self.parindx(i)\n",
        "  #function to delete root element from minheap\n",
        "  def pop(self):\n",
        "    if(self.size==0):\n",
        "      print(\"ERROR ! (Heap is Empty)\")\n",
        "      return\n",
        "    self.swap(0,self.size-1)\n",
        "    root=self.arr.pop()\n",
        "    self.size-=1\n",
        "    self.heapifyNode(0)\n",
        "    return root\n"
      ],
      "metadata": {
        "id": "vDeUCKw15B73"
      },
      "execution_count": 5,
      "outputs": []
    },
    {
      "cell_type": "markdown",
      "source": [
        "#Defining priority queue class using MIN-Heap \n",
        "our priority queue has 4 methods:\n",
        "\n",
        "i) Push -> insert element in priority queue\n",
        "\n",
        "ii) Pop -> delete root element\n",
        "\n",
        "iii) front() -> get front element\n",
        "\n",
        "iv) size() -> get current size of priority queue\n",
        "\n",
        ">Must run the Minheap class before running the priority queue class"
      ],
      "metadata": {
        "id": "5DVn3L8k5EXp"
      }
    },
    {
      "cell_type": "code",
      "source": [
        "class priority_queue(minheap):\n",
        "  def __init__(self,lis=[]):\n",
        "    self.size=len(lis)\n",
        "    self.heap=minheap(lis)\n",
        "  def isempty(self):\n",
        "    return (self.size==0)\n",
        "  #function to get size of priority queue\n",
        "  def size(self):\n",
        "      return self.size\n",
        "  #function to access front (root{minimum element}) in priority queue\n",
        "  def front(self):\n",
        "    if self.size==0:\n",
        "      print(\"Empty priority queue! (can't delete)\")\n",
        "      return\n",
        "    return self.heap.front()\n",
        "  #function to insert element in priority queue\n",
        "  def push(self,val):\n",
        "    self.heap.insert(val)\n",
        "    self.size+=1\n",
        "    print(f\"{val} inserted.\")\n",
        "  #function to delete root element from priority queue\n",
        "  def pop(self):\n",
        "    if self.size==0:\n",
        "      print(\"Empty priority queue! (can't delete)\")\n",
        "      return\n",
        "    root=self.heap.pop()\n",
        "    print(f\"{root} popped.\")\n",
        "    self.size-=1\n",
        "    return root\n",
        "\n"
      ],
      "metadata": {
        "id": "8X56afejxK0T"
      },
      "execution_count": 6,
      "outputs": []
    },
    {
      "cell_type": "markdown",
      "source": [
        "##Testing the above classes"
      ],
      "metadata": {
        "id": "NdwFg886lGIy"
      }
    },
    {
      "cell_type": "code",
      "source": [
        "# user code starts here\n",
        "arr=[17,15,13,9,6,5,10,4,8,3,1]\n",
        "print(f\"Given array = {arr}\")\n",
        "print(\"\\n\")\n",
        "\n",
        "pq=priority_queue(arr) #creating an priority queue [we can also create an empty priority queue e.g:-  pq=priority_queue()]\n",
        "# we can also empty priority queue\n",
        "pq2=priority_queue()\n",
        "\n",
        "print(\"Initial Priority queue is :-\")\n",
        "print(pq.heap.arr)\n",
        "print(f\"front = {pq.front()}\\n\")\n",
        "\n",
        "pq.pop()\n",
        "print(f\"front = {pq.front()}\")\n",
        "print(pq.heap.arr,\"\\n\")\n",
        "\n",
        "pq.pop()\n",
        "print(f\"front = {pq.front()}\")\n",
        "print(pq.heap.arr,\"\\n\")\n",
        "\n",
        "pq.pop()\n",
        "print(f\"front = {pq.front()}\")\n",
        "print(pq.heap.arr,\"\\n\")\n",
        "\n",
        "pq.push(0)\n",
        "print(f\"front = {pq.front()}\")\n",
        "print(pq.heap.arr,\"\\n\")\n",
        "\n",
        "pq.pop()\n",
        "print(f\"front = {pq.front()}\")\n",
        "print(pq.heap.arr,\"\\n\")"
      ],
      "metadata": {
        "id": "3vsaPYH_sb9Y",
        "colab": {
          "base_uri": "https://localhost:8080/"
        },
        "outputId": "10049dd6-c4d9-404b-cd14-315db33eaa36"
      },
      "execution_count": 7,
      "outputs": [
        {
          "output_type": "stream",
          "name": "stdout",
          "text": [
            "Given array = [17, 15, 13, 9, 6, 5, 10, 4, 8, 3, 1]\n",
            "\n",
            "\n",
            "Initial Priority queue is :-\n",
            "[1, 3, 5, 4, 6, 13, 10, 9, 8, 15, 17]\n",
            "front = 1\n",
            "\n",
            "1 popped.\n",
            "front = 3\n",
            "[3, 4, 5, 8, 6, 13, 10, 9, 17, 15] \n",
            "\n",
            "3 popped.\n",
            "front = 4\n",
            "[4, 6, 5, 8, 15, 13, 10, 9, 17] \n",
            "\n",
            "4 popped.\n",
            "front = 5\n",
            "[5, 6, 10, 8, 15, 13, 17, 9] \n",
            "\n",
            "0 inserted.\n",
            "front = 0\n",
            "[0, 5, 10, 6, 15, 13, 17, 9, 8] \n",
            "\n",
            "0 popped.\n",
            "front = 5\n",
            "[5, 6, 10, 8, 15, 13, 17, 9] \n",
            "\n"
          ]
        }
      ]
    }
  ]
}